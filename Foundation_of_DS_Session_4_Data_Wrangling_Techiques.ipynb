{
  "nbformat": 4,
  "nbformat_minor": 0,
  "metadata": {
    "colab": {
      "provenance": [],
      "collapsed_sections": [
        "sLYPv8Pqh0AP",
        "VUwc17lnh9wE",
        "CdhhFakWiHG1"
      ],
      "include_colab_link": true
    },
    "kernelspec": {
      "name": "python3",
      "display_name": "Python 3"
    },
    "language_info": {
      "name": "python"
    }
  },
  "cells": [
    {
      "cell_type": "markdown",
      "metadata": {
        "id": "view-in-github",
        "colab_type": "text"
      },
      "source": [
        "<a href=\"https://colab.research.google.com/github/TechCurate/Data-Analysis-using-Python/blob/main/Foundation_of_DS_Session_4_Data_Wrangling_Techiques.ipynb\" target=\"_parent\"><img src=\"https://colab.research.google.com/assets/colab-badge.svg\" alt=\"Open In Colab\"/></a>"
      ]
    },
    {
      "cell_type": "markdown",
      "source": [
        "# Necessary imports\n",
        "\n",
        "[10 Minutes to Pandas](https://pandas.pydata.org/docs/user_guide/10min.html)\n",
        "\n",
        "[Pandas DataFrame](https://pandas.pydata.org/docs/reference/api/pandas.DataFrame.html)\n",
        "\n",
        "[NumPy Basics](https://numpy.org/doc/stable/user/absolute_beginners.html)\n",
        "\n"
      ],
      "metadata": {
        "id": "eY9QGWc0hfwJ"
      }
    },
    {
      "cell_type": "code",
      "execution_count": null,
      "metadata": {
        "id": "9niYTfvUhQYn"
      },
      "outputs": [],
      "source": [
        "import pandas as pd\n",
        "import numpy as np"
      ]
    },
    {
      "cell_type": "markdown",
      "source": [
        "# Data Cleaning\n"
      ],
      "metadata": {
        "id": "Tj3ivv52htAz"
      }
    },
    {
      "cell_type": "markdown",
      "source": [
        "## Handling Missing Values"
      ],
      "metadata": {
        "id": "sLYPv8Pqh0AP"
      }
    },
    {
      "cell_type": "code",
      "source": [
        "# Example dataset\n",
        "data = {'Name': ['Alice', 'Bob', 'Charlie', np.nan],\n",
        "        'Age': [25, 30, 35, 40],\n",
        "        'City': ['New York', np.nan, 'Los Angeles', 'Chicago']}\n",
        "df = pd.DataFrame(data)\n",
        "\n",
        "# Identifying missing values\n",
        "print(df.isnull())\n",
        "print()\n",
        "\n",
        "# Filling missing values\n",
        "df['Name'].fillna('Unknown', inplace=True)\n",
        "df['City'].fillna('Unknown', inplace=True)\n",
        "print(df)"
      ],
      "metadata": {
        "id": "4jMd-VeghvhY",
        "colab": {
          "base_uri": "https://localhost:8080/"
        },
        "outputId": "a3c801f9-b7fc-4dd6-85d9-0726337dac63"
      },
      "execution_count": null,
      "outputs": [
        {
          "output_type": "stream",
          "name": "stdout",
          "text": [
            "    Name    Age   City\n",
            "0  False  False  False\n",
            "1  False  False   True\n",
            "2  False  False  False\n",
            "3   True  False  False\n",
            "\n",
            "      Name  Age         City\n",
            "0    Alice   25     New York\n",
            "1      Bob   30      Unknown\n",
            "2  Charlie   35  Los Angeles\n",
            "3  Unknown   40      Chicago\n"
          ]
        }
      ]
    },
    {
      "cell_type": "markdown",
      "source": [
        "## Removing Duplicates\n"
      ],
      "metadata": {
        "id": "VUwc17lnh9wE"
      }
    },
    {
      "cell_type": "code",
      "source": [
        "# Example dataset with duplicates\n",
        "data = {'Name': ['Alice', 'Bob', 'Charlie', 'Alice', 'Bob'],\n",
        "        'Age': [25, 30, 35, 25, 31]}\n",
        "df = pd.DataFrame(data)\n",
        "print(df)\n",
        "print()\n",
        "\n",
        "# Removing duplicates\n",
        "df.drop_duplicates(inplace=True)\n",
        "print(df)"
      ],
      "metadata": {
        "id": "hTjharEPiBAo",
        "colab": {
          "base_uri": "https://localhost:8080/"
        },
        "outputId": "d95beac0-bcc6-40b0-afa8-245035cf4d8b"
      },
      "execution_count": null,
      "outputs": [
        {
          "output_type": "stream",
          "name": "stdout",
          "text": [
            "      Name  Age\n",
            "0    Alice   25\n",
            "1      Bob   30\n",
            "2  Charlie   35\n",
            "3    Alice   25\n",
            "4      Bob   31\n",
            "\n",
            "      Name  Age\n",
            "0    Alice   25\n",
            "1      Bob   30\n",
            "2  Charlie   35\n",
            "4      Bob   31\n"
          ]
        }
      ]
    },
    {
      "cell_type": "markdown",
      "source": [
        "## Data Type Conversions"
      ],
      "metadata": {
        "id": "CdhhFakWiHG1"
      }
    },
    {
      "cell_type": "code",
      "source": [
        "# Example dataset\n",
        "data = {'Name': ['Alice', 'Bob', 'Charlie'],\n",
        "        'Age': ['25', '30', '35']}\n",
        "df = pd.DataFrame(data)\n",
        "print(df.dtypes)\n",
        "print()\n",
        "\n",
        "# Converting data types\n",
        "df['Age'] = df['Age'].astype(int)\n",
        "print(df.dtypes)\n"
      ],
      "metadata": {
        "id": "FBEApffJiLu2",
        "colab": {
          "base_uri": "https://localhost:8080/"
        },
        "outputId": "dffce3e4-a933-484b-e9d8-b41791b841fd"
      },
      "execution_count": null,
      "outputs": [
        {
          "output_type": "stream",
          "name": "stdout",
          "text": [
            "Name    object\n",
            "Age     object\n",
            "dtype: object\n",
            "\n",
            "Name    object\n",
            "Age      int64\n",
            "dtype: object\n"
          ]
        }
      ]
    },
    {
      "cell_type": "markdown",
      "source": [
        "# Data Transformation"
      ],
      "metadata": {
        "id": "1gMxM-wYiQN2"
      }
    },
    {
      "cell_type": "markdown",
      "source": [
        "## Filtering and Selecting Data"
      ],
      "metadata": {
        "id": "t-ipGr90ion2"
      }
    },
    {
      "cell_type": "code",
      "source": [
        "# Example dataset\n",
        "data = {'Name': ['Alice', 'Bob', 'Charlie', 'David'],\n",
        "        'Age': [25, 30, 35, 40],\n",
        "        'City': ['New York', 'Chicago', 'Los Angeles', 'Houston']}\n",
        "df = pd.DataFrame(data)\n",
        "print(df)\n",
        "print()\n",
        "\n",
        "# Filtering data\n",
        "filtered_df = df[df['Age'] > 30]\n",
        "print(filtered_df)\n"
      ],
      "metadata": {
        "id": "MaJJtDfyisJb",
        "colab": {
          "base_uri": "https://localhost:8080/"
        },
        "outputId": "62ac0fe2-90ca-4279-9564-43ec0bf5777d"
      },
      "execution_count": null,
      "outputs": [
        {
          "output_type": "stream",
          "name": "stdout",
          "text": [
            "      Name  Age         City\n",
            "0    Alice   25     New York\n",
            "1      Bob   30      Chicago\n",
            "2  Charlie   35  Los Angeles\n",
            "3    David   40      Houston\n",
            "\n",
            "      Name  Age         City\n",
            "2  Charlie   35  Los Angeles\n",
            "3    David   40      Houston\n"
          ]
        }
      ]
    },
    {
      "cell_type": "markdown",
      "source": [
        "## Sorting Data"
      ],
      "metadata": {
        "id": "f7Aa4gJnivtB"
      }
    },
    {
      "cell_type": "code",
      "source": [
        "# Sorting data\n",
        "data = {'Name': ['Alice', 'Bob', 'Charlie', 'David'],\n",
        "        'Age': [25, np.nan, 35, 40],\n",
        "        'City': ['New York', 'Chicago', 'Los Angeles', 'Houston']}\n",
        "df = pd.DataFrame(data)\n",
        "\n",
        "sorted_df = df.sort_values(by='Age')\n",
        "print(sorted_df)"
      ],
      "metadata": {
        "id": "ZN9Onx3eiy5L",
        "colab": {
          "base_uri": "https://localhost:8080/"
        },
        "outputId": "85d37600-65f3-4954-a21d-9bd035f9a4fd"
      },
      "execution_count": null,
      "outputs": [
        {
          "output_type": "stream",
          "name": "stdout",
          "text": [
            "      Name   Age         City\n",
            "0    Alice  25.0     New York\n",
            "2  Charlie  35.0  Los Angeles\n",
            "3    David  40.0      Houston\n",
            "1      Bob   NaN      Chicago\n"
          ]
        }
      ]
    },
    {
      "cell_type": "markdown",
      "source": [
        "## Applying Functions"
      ],
      "metadata": {
        "id": "y9MkT05Ri1_W"
      }
    },
    {
      "cell_type": "code",
      "source": [
        "# Applying functions\n",
        "\"\"\"\n",
        "apply() is a function that lets you do something to every item in a column.\n",
        "lambda x: x + 10 is a small, unnamed function. Here’s what it does:\n",
        "\n",
        "    lambda creates a quick, one-time use function.\n",
        "    x represents each value in the \"Age\" column.\n",
        "    x + 10 means we take each value (age) and add 10 to it.\n",
        "\"\"\"\n",
        "df['Age_plus_10'] = df['Age'].apply(lambda x: x + 10)\n",
        "print(df)\n"
      ],
      "metadata": {
        "id": "6dRvfE0ti8vM",
        "colab": {
          "base_uri": "https://localhost:8080/"
        },
        "outputId": "727458f0-fecd-4113-abe2-e671c5d3f81c"
      },
      "execution_count": null,
      "outputs": [
        {
          "output_type": "stream",
          "name": "stdout",
          "text": [
            "      Name   Age         City  Age_plus_10\n",
            "0    Alice  25.0     New York         35.0\n",
            "1      Bob   NaN      Chicago          NaN\n",
            "2  Charlie  35.0  Los Angeles         45.0\n",
            "3    David  40.0      Houston         50.0\n"
          ]
        }
      ]
    },
    {
      "cell_type": "markdown",
      "source": [
        "# Data Merging and Joining"
      ],
      "metadata": {
        "id": "WH8bvzhNjCJe"
      }
    },
    {
      "cell_type": "markdown",
      "source": [
        "## Concatenating DataFrames"
      ],
      "metadata": {
        "id": "JKXLNiaRjGeL"
      }
    },
    {
      "cell_type": "code",
      "source": [
        "# Example datasets\n",
        "df1 = pd.DataFrame({'Name': ['Alice', 'Bob', 'Zulu'],\n",
        "                    'Age': [25, 30, 90]})\n",
        "df2 = pd.DataFrame({'Name': ['Charlie', 'David'],\n",
        "                    'Age': [35, 40]})\n",
        "\n",
        "# Concatenating dataframes\n",
        "concatenated_df = pd.concat([df1, df2])\n",
        "print(concatenated_df)\n"
      ],
      "metadata": {
        "id": "kwNf6LY8jA3N",
        "colab": {
          "base_uri": "https://localhost:8080/"
        },
        "outputId": "fb9795f5-3612-430f-bfef-1105eb46a651"
      },
      "execution_count": null,
      "outputs": [
        {
          "output_type": "stream",
          "name": "stdout",
          "text": [
            "      Name  Age\n",
            "0    Alice   25\n",
            "1      Bob   30\n",
            "2     Zulu   90\n",
            "0  Charlie   35\n",
            "1    David   40\n"
          ]
        }
      ]
    },
    {
      "cell_type": "markdown",
      "source": [
        "## Merging DataFrames"
      ],
      "metadata": {
        "id": "fL6fhnMYjO-I"
      }
    },
    {
      "cell_type": "code",
      "source": [
        "# Example datasets\n",
        "df1 = pd.DataFrame({'Name': ['Alice', 'Bob', 'Zulu'],\n",
        "                    'Age': [25, 30, 90]})\n",
        "df2 = pd.DataFrame({'Name': ['Alice', 'Bob'],\n",
        "                    'City': ['New York', 'Chicago']})\n",
        "print(df1)\n",
        "print()\n",
        "print(df2)\n",
        "print()\n",
        "\n",
        "# Merging dataframes (drops entry without complete data)\n",
        "merged_df = pd.merge(df1, df2, on='Name')\n",
        "print(merged_df)\n"
      ],
      "metadata": {
        "id": "OqOiglIJjTx-",
        "colab": {
          "base_uri": "https://localhost:8080/"
        },
        "outputId": "773ef222-293a-433f-b1ff-f3110c7d8ff8"
      },
      "execution_count": null,
      "outputs": [
        {
          "output_type": "stream",
          "name": "stdout",
          "text": [
            "    Name  Age\n",
            "0  Alice   25\n",
            "1    Bob   30\n",
            "2   Zulu   90\n",
            "\n",
            "    Name      City\n",
            "0  Alice  New York\n",
            "1    Bob   Chicago\n",
            "\n",
            "    Name  Age      City\n",
            "0  Alice   25  New York\n",
            "1    Bob   30   Chicago\n"
          ]
        }
      ]
    },
    {
      "cell_type": "markdown",
      "source": [
        "# Data Reshaping"
      ],
      "metadata": {
        "id": "CrlognAxjWnn"
      }
    },
    {
      "cell_type": "markdown",
      "source": [
        "## Pivoting Data"
      ],
      "metadata": {
        "id": "enhN8Z7nja4M"
      }
    },
    {
      "cell_type": "code",
      "source": [
        "# Example dataset\n",
        "data = {'Name': ['Alice', 'Bob', 'Alice', 'Bob'],\n",
        "        'Year': [2020, 2020, 2021, 2021],\n",
        "        'Score': [85, 90, 88, 92]}\n",
        "df = pd.DataFrame(data)\n",
        "print(df)\n",
        "print()\n",
        "\n",
        "# Pivoting data\n",
        "pivot_df = df.pivot_table(index='Name', columns='Year', values='Score')\n",
        "print(pivot_df)\n"
      ],
      "metadata": {
        "id": "ZVJsJWJsjd_M",
        "colab": {
          "base_uri": "https://localhost:8080/"
        },
        "outputId": "dc1cdc51-f2fd-4749-99a1-0233e4fb3e16"
      },
      "execution_count": null,
      "outputs": [
        {
          "output_type": "stream",
          "name": "stdout",
          "text": [
            "    Name  Year  Score\n",
            "0  Alice  2020     85\n",
            "1    Bob  2020     90\n",
            "2  Alice  2021     88\n",
            "3    Bob  2021     92\n",
            "\n",
            "Year   2020  2021\n",
            "Name             \n",
            "Alice    85    88\n",
            "Bob      90    92\n"
          ]
        }
      ]
    },
    {
      "cell_type": "markdown",
      "source": [
        "## Melting Data"
      ],
      "metadata": {
        "id": "zSnVJBlQjgvA"
      }
    },
    {
      "cell_type": "code",
      "source": [
        "# Example dataset\n",
        "data = {'Name': ['Alice', 'Bob'],\n",
        "        '2020': [85, 90],\n",
        "        '2021': [88, 92]}\n",
        "df = pd.DataFrame(data)\n",
        "print(df)\n",
        "print('\\n')\n",
        "\n",
        "# Melting data\n",
        "melted_df = df.melt(id_vars=['Name'], var_name='Year', value_name='Score')\n",
        "print(melted_df)\n"
      ],
      "metadata": {
        "id": "QeCxZ1FOjjnO",
        "colab": {
          "base_uri": "https://localhost:8080/"
        },
        "outputId": "94835520-1a64-459e-842e-5ffbe091720c"
      },
      "execution_count": null,
      "outputs": [
        {
          "output_type": "stream",
          "name": "stdout",
          "text": [
            "    Name  2020  2021\n",
            "0  Alice    85    88\n",
            "1    Bob    90    92\n",
            "\n",
            "\n",
            "    Name  Year  Score\n",
            "0  Alice  2020     85\n",
            "1    Bob  2020     90\n",
            "2  Alice  2021     88\n",
            "3    Bob  2021     92\n"
          ]
        }
      ]
    },
    {
      "cell_type": "markdown",
      "source": [
        "# Use Case: Analyzing Sales Data\n",
        "\n",
        "## Objective\n",
        "\n",
        "In this use case, we will work with a hypothetical sales dataset. The goal is to clean, transform, merge, and reshape the data to analyze the monthly sales performance of different products across various regions.\n",
        "### Starting Point\n",
        "\n",
        "We have two datasets:\n",
        "\n",
        "    Sales Data: Contains information about sales transactions.\n",
        "        Columns: TransactionID, Date, ProductID, Quantity, Price, Region\n",
        "    Product Data: Contains information about products.\n",
        "        Columns: ProductID, ProductName, Category\n",
        "\n",
        "### Expected Result\n",
        "\n",
        "By the end of this use case, we will have a cleaned and merged dataset that shows the total sales per product, per region, for each month. We will also identify any missing data, remove duplicates, and convert data types as necessary."
      ],
      "metadata": {
        "id": "F-rhGvd7knNw"
      }
    },
    {
      "cell_type": "markdown",
      "source": [
        "## Datasets"
      ],
      "metadata": {
        "id": "Cip6zcl4lPVY"
      }
    },
    {
      "cell_type": "markdown",
      "source": [
        "### Sales Data"
      ],
      "metadata": {
        "id": "MDyiy8jhlYHk"
      }
    },
    {
      "cell_type": "code",
      "source": [
        "import pandas as pd\n",
        "import numpy as np\n",
        "\n",
        "# Sample Sales Data\n",
        "sales_data = {\n",
        "    'TransactionID': [1, 2, 3, 4, 5, 6, 7, 8, 9, 10],\n",
        "    'Date': ['2023-01-15', '2023-01-20', '2023-02-05', '2023-02-10', '2023-03-01',\n",
        "             '2023-03-15', '2023-04-01', '2023-04-05', '2023-05-10', '2023-05-15'],\n",
        "    'ProductID': [101, 102, 103, 101, 102, 103, 101, 102, 103, 104],\n",
        "    'Quantity': [2, 1, 5, 3, 2, 1, 4, 3, 5, 2],\n",
        "    'Price': [20, 30, 25, 20, 30, 25, 20, 30, 25, 40],\n",
        "    'Region': ['North', 'South', 'East', 'West', 'North', 'South', 'East', 'West', 'North', 'South']\n",
        "}\n",
        "sales_df = pd.DataFrame(sales_data)\n",
        "print(sales_df)"
      ],
      "metadata": {
        "id": "X-V8VDUjlWhM",
        "colab": {
          "base_uri": "https://localhost:8080/"
        },
        "outputId": "d5ed4bd4-e62c-46b2-dcc6-d45839d68f85"
      },
      "execution_count": null,
      "outputs": [
        {
          "output_type": "stream",
          "name": "stdout",
          "text": [
            "   TransactionID        Date  ProductID  Quantity  Price Region\n",
            "0              1  2023-01-15        101         2     20  North\n",
            "1              2  2023-01-20        102         1     30  South\n",
            "2              3  2023-02-05        103         5     25   East\n",
            "3              4  2023-02-10        101         3     20   West\n",
            "4              5  2023-03-01        102         2     30  North\n",
            "5              6  2023-03-15        103         1     25  South\n",
            "6              7  2023-04-01        101         4     20   East\n",
            "7              8  2023-04-05        102         3     30   West\n",
            "8              9  2023-05-10        103         5     25  North\n",
            "9             10  2023-05-15        104         2     40  South\n"
          ]
        }
      ]
    },
    {
      "cell_type": "markdown",
      "source": [
        "### Product Data"
      ],
      "metadata": {
        "id": "03MATlFmleBW"
      }
    },
    {
      "cell_type": "code",
      "source": [
        "# Sample Product Data\n",
        "product_data = {\n",
        "    'ProductID': [101, 102, 103, 104],\n",
        "    'ProductName': ['Widget A', 'Widget B', 'Widget C', 'Widget D'],\n",
        "    'Category': ['Category 1', 'Category 2', 'Category 1', 'Category 3']\n",
        "}\n",
        "product_df = pd.DataFrame(product_data)\n",
        "print(product_df)\n"
      ],
      "metadata": {
        "id": "uzjycmAilgJQ",
        "colab": {
          "base_uri": "https://localhost:8080/"
        },
        "outputId": "dd4b828c-5cf1-475d-d13b-0d63e526a5d6"
      },
      "execution_count": null,
      "outputs": [
        {
          "output_type": "stream",
          "name": "stdout",
          "text": [
            "   ProductID ProductName    Category\n",
            "0        101    Widget A  Category 1\n",
            "1        102    Widget B  Category 2\n",
            "2        103    Widget C  Category 1\n",
            "3        104    Widget D  Category 3\n"
          ]
        }
      ]
    },
    {
      "cell_type": "markdown",
      "source": [
        "## Steps and Code"
      ],
      "metadata": {
        "id": "9HRhradXlsmn"
      }
    },
    {
      "cell_type": "markdown",
      "source": [
        "### Data Cleaning\n",
        "\n",
        "*   Handling Missing Values: Check for and fill any missing values.\n",
        "*   Removing Duplicates: Ensure no duplicate transactions.\n",
        "*   Data Type Conversions: Convert Date to datetime format.\n",
        "\n",
        "\n",
        "\n"
      ],
      "metadata": {
        "id": "cZ-ihZRDl3is"
      }
    },
    {
      "cell_type": "code",
      "source": [
        "# Handling missing values\n",
        "print(sales_df.isnull().sum())\n",
        "print('\\n')\n",
        "\n",
        "# Removing duplicates\n",
        "sales_df.drop_duplicates(inplace=True)\n",
        "\n",
        "# Converting data types\n",
        "sales_df['Date'] = pd.to_datetime(sales_df['Date'])\n",
        "print(sales_df.dtypes)\n"
      ],
      "metadata": {
        "id": "y8FXP0sll2GJ",
        "colab": {
          "base_uri": "https://localhost:8080/"
        },
        "outputId": "97f569d7-353b-490a-b6eb-ac90d4899da9"
      },
      "execution_count": null,
      "outputs": [
        {
          "output_type": "stream",
          "name": "stdout",
          "text": [
            "TransactionID    0\n",
            "Date             0\n",
            "ProductID        0\n",
            "Quantity         0\n",
            "Price            0\n",
            "Region           0\n",
            "dtype: int64\n",
            "\n",
            "\n",
            "TransactionID             int64\n",
            "Date             datetime64[ns]\n",
            "ProductID                 int64\n",
            "Quantity                  int64\n",
            "Price                     int64\n",
            "Region                   object\n",
            "dtype: object\n"
          ]
        }
      ]
    },
    {
      "cell_type": "markdown",
      "source": [
        "### Data Transformation\n",
        "* Adding a 'Total Sales' Column: Calculate total sales for each transaction.\n",
        "* Filtering Data: Filter transactions to include only those in the first quarter of 2023."
      ],
      "metadata": {
        "id": "YsjseriDmcpi"
      }
    },
    {
      "cell_type": "code",
      "source": [
        "# Adding 'Total Sales' column\n",
        "sales_df['TotalSales'] = sales_df['Quantity'] * sales_df['Price']\n",
        "\n",
        "# Filtering data\n",
        "filtered_sales_df = sales_df[sales_df['Date'] < '2023-04-01']\n",
        "print(filtered_sales_df)\n"
      ],
      "metadata": {
        "id": "0HBkGtl4m1po",
        "colab": {
          "base_uri": "https://localhost:8080/"
        },
        "outputId": "036a1c36-d191-4c09-b5da-f5c0c8b74f50"
      },
      "execution_count": null,
      "outputs": [
        {
          "output_type": "stream",
          "name": "stdout",
          "text": [
            "   TransactionID       Date  ProductID  Quantity  Price Region  TotalSales\n",
            "0              1 2023-01-15        101         2     20  North          40\n",
            "1              2 2023-01-20        102         1     30  South          30\n",
            "2              3 2023-02-05        103         5     25   East         125\n",
            "3              4 2023-02-10        101         3     20   West          60\n",
            "4              5 2023-03-01        102         2     30  North          60\n",
            "5              6 2023-03-15        103         1     25  South          25\n"
          ]
        }
      ]
    },
    {
      "cell_type": "markdown",
      "source": [
        "### Data Merging\n",
        "* Merge sales_df and product_df on ProductID"
      ],
      "metadata": {
        "id": "bb4K9EFM2WhZ"
      }
    },
    {
      "cell_type": "code",
      "source": [
        "# Merging dataframes\n",
        "merged_df = pd.merge(filtered_sales_df, product_df, on='ProductID')\n",
        "print(merged_df)"
      ],
      "metadata": {
        "id": "U9ZkeX2G2n0E",
        "colab": {
          "base_uri": "https://localhost:8080/"
        },
        "outputId": "51501e60-0375-415e-fc06-1d587ab8cf91"
      },
      "execution_count": null,
      "outputs": [
        {
          "output_type": "stream",
          "name": "stdout",
          "text": [
            "   TransactionID       Date  ProductID  Quantity  Price Region  TotalSales  \\\n",
            "0              1 2023-01-15        101         2     20  North          40   \n",
            "1              4 2023-02-10        101         3     20   West          60   \n",
            "2              2 2023-01-20        102         1     30  South          30   \n",
            "3              5 2023-03-01        102         2     30  North          60   \n",
            "4              3 2023-02-05        103         5     25   East         125   \n",
            "5              6 2023-03-15        103         1     25  South          25   \n",
            "\n",
            "  ProductName    Category  \n",
            "0    Widget A  Category 1  \n",
            "1    Widget A  Category 1  \n",
            "2    Widget B  Category 2  \n",
            "3    Widget B  Category 2  \n",
            "4    Widget C  Category 1  \n",
            "5    Widget C  Category 1  \n"
          ]
        }
      ]
    },
    {
      "cell_type": "markdown",
      "source": [
        "### Data Reshaping\n",
        "* Pivot Table: Create a pivot table to summarize total sales per product, per region, for each month."
      ],
      "metadata": {
        "id": "mvJru8Yi2rt4"
      }
    },
    {
      "cell_type": "code",
      "source": [
        "# Extracting month and year from 'Date'\n",
        "merged_df['Month'] = merged_df['Date'].dt.to_period('M')\n",
        "\n",
        "# Pivot table\n",
        "pivot_df = merged_df.pivot_table(index=['ProductName', 'Region'], columns='Month', values='TotalSales', aggfunc='sum', fill_value=0)\n",
        "print(pivot_df)"
      ],
      "metadata": {
        "id": "NsFduw4p20qt",
        "colab": {
          "base_uri": "https://localhost:8080/"
        },
        "outputId": "6a052f9f-0a38-462a-9493-438f0429ca9d"
      },
      "execution_count": null,
      "outputs": [
        {
          "output_type": "stream",
          "name": "stdout",
          "text": [
            "Month               2023-01  2023-02  2023-03\n",
            "ProductName Region                           \n",
            "Widget A    North        40        0        0\n",
            "            West          0       60        0\n",
            "Widget B    North         0        0       60\n",
            "            South        30        0        0\n",
            "Widget C    East          0      125        0\n",
            "            South         0        0       25\n"
          ]
        }
      ]
    },
    {
      "cell_type": "markdown",
      "source": [
        "# Summary and Results\n",
        "* **Summary**: We started with raw sales and product data, cleaned and transformed the data, merged it into a single dataset, and then reshaped it to analyze monthly sales per product and region.\n",
        "* **Results**: The pivot table provides a clear summary of total sales for each product in each region by month, helping us understand sales performance over time.\n"
      ],
      "metadata": {
        "id": "WXE9CQg3m4pS"
      }
    }
  ]
}